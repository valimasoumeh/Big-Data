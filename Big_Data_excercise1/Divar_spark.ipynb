{
 "cells": [
  {
   "cell_type": "code",
   "execution_count": 33,
   "id": "5caf9f8c-033b-4ca1-940d-9179c4548154",
   "metadata": {},
   "outputs": [],
   "source": [
    "import pyspark\n",
    "from pyspark.sql import SparkSession"
   ]
  },
  {
   "cell_type": "code",
   "execution_count": 78,
   "id": "42e0a759-f063-4087-bb92-42083f8cc362",
   "metadata": {},
   "outputs": [],
   "source": [
    "import numpy as np\n",
    "import pandas as pd\n",
    "import seaborn as sns\n",
    "import matplotlib.pyplot as plt \n",
    "from pandas.plotting import scatter_matrix"
   ]
  },
  {
   "cell_type": "code",
   "execution_count": 76,
   "id": "eb5227f1-b005-4fb1-8f5a-ad92bf23511c",
   "metadata": {},
   "outputs": [],
   "source": [
    "spark = SparkSession.builder.appName(\"Divar\").getOrCreate()"
   ]
  },
  {
   "cell_type": "code",
   "execution_count": 3,
   "id": "f65f42c9-fa7f-484a-82d6-aee7b3cc5918",
   "metadata": {},
   "outputs": [
    {
     "data": {
      "text/html": [
       "\n",
       "            <div>\n",
       "                <p><b>SparkSession - in-memory</b></p>\n",
       "                \n",
       "        <div>\n",
       "            <p><b>SparkContext</b></p>\n",
       "\n",
       "            <p><a href=\"http://f1b8f08c87f3:4040\">Spark UI</a></p>\n",
       "\n",
       "            <dl>\n",
       "              <dt>Version</dt>\n",
       "                <dd><code>v3.2.1</code></dd>\n",
       "              <dt>Master</dt>\n",
       "                <dd><code>local[*]</code></dd>\n",
       "              <dt>AppName</dt>\n",
       "                <dd><code>Divar</code></dd>\n",
       "            </dl>\n",
       "        </div>\n",
       "        \n",
       "            </div>\n",
       "        "
      ],
      "text/plain": [
       "<pyspark.sql.session.SparkSession at 0x7f9b43c27d60>"
      ]
     },
     "execution_count": 3,
     "metadata": {},
     "output_type": "execute_result"
    }
   ],
   "source": [
    "spark"
   ]
  },
  {
   "cell_type": "markdown",
   "id": "a8c4195a-487a-46f3-9d33-9764a1cb9d6b",
   "metadata": {},
   "source": [
    "<h1>Load & Analysis Data</h1>"
   ]
  },
  {
   "cell_type": "code",
   "execution_count": 98,
   "id": "970cf3b6-2d98-4b9e-9b89-7fe7f203196a",
   "metadata": {},
   "outputs": [],
   "source": [
    "df=spark.read.csv('DivarFinal.csv',inferSchema=True,header=True)"
   ]
  },
  {
   "cell_type": "code",
   "execution_count": 99,
   "id": "f35e9b25-8134-4bf4-a6cc-6b447700e9e7",
   "metadata": {},
   "outputs": [
    {
     "name": "stdout",
     "output_type": "stream",
     "text": [
      "root\n",
      " |-- Address: string (nullable = true)\n",
      " |-- Area: integer (nullable = true)\n",
      " |-- Year: integer (nullable = true)\n",
      " |-- Number Of Room: integer (nullable = true)\n",
      " |-- Price: long (nullable = true)\n",
      " |-- Price per meter: integer (nullable = true)\n",
      " |-- Floor: integer (nullable = true)\n",
      " |-- Elevator: integer (nullable = true)\n",
      " |-- Parking: integer (nullable = true)\n",
      " |-- Warehouse: integer (nullable = true)\n",
      "\n"
     ]
    }
   ],
   "source": [
    "df.printSchema()"
   ]
  },
  {
   "cell_type": "code",
   "execution_count": 100,
   "id": "2682f60d-c364-4bd8-b5fa-77b53ad55829",
   "metadata": {},
   "outputs": [
    {
     "name": "stdout",
     "output_type": "stream",
     "text": [
      "Columns overview\n"
     ]
    },
    {
     "data": {
      "text/html": [
       "<div>\n",
       "<style scoped>\n",
       "    .dataframe tbody tr th:only-of-type {\n",
       "        vertical-align: middle;\n",
       "    }\n",
       "\n",
       "    .dataframe tbody tr th {\n",
       "        vertical-align: top;\n",
       "    }\n",
       "\n",
       "    .dataframe thead th {\n",
       "        text-align: right;\n",
       "    }\n",
       "</style>\n",
       "<table border=\"1\" class=\"dataframe\">\n",
       "  <thead>\n",
       "    <tr style=\"text-align: right;\">\n",
       "      <th></th>\n",
       "      <th>Column Name</th>\n",
       "      <th>Data type</th>\n",
       "    </tr>\n",
       "  </thead>\n",
       "  <tbody>\n",
       "    <tr>\n",
       "      <th>0</th>\n",
       "      <td>Address</td>\n",
       "      <td>string</td>\n",
       "    </tr>\n",
       "    <tr>\n",
       "      <th>1</th>\n",
       "      <td>Area</td>\n",
       "      <td>int</td>\n",
       "    </tr>\n",
       "    <tr>\n",
       "      <th>2</th>\n",
       "      <td>Year</td>\n",
       "      <td>int</td>\n",
       "    </tr>\n",
       "    <tr>\n",
       "      <th>3</th>\n",
       "      <td>Number Of Room</td>\n",
       "      <td>int</td>\n",
       "    </tr>\n",
       "    <tr>\n",
       "      <th>4</th>\n",
       "      <td>Price</td>\n",
       "      <td>bigint</td>\n",
       "    </tr>\n",
       "    <tr>\n",
       "      <th>5</th>\n",
       "      <td>Price per meter</td>\n",
       "      <td>int</td>\n",
       "    </tr>\n",
       "    <tr>\n",
       "      <th>6</th>\n",
       "      <td>Floor</td>\n",
       "      <td>int</td>\n",
       "    </tr>\n",
       "    <tr>\n",
       "      <th>7</th>\n",
       "      <td>Elevator</td>\n",
       "      <td>int</td>\n",
       "    </tr>\n",
       "    <tr>\n",
       "      <th>8</th>\n",
       "      <td>Parking</td>\n",
       "      <td>int</td>\n",
       "    </tr>\n",
       "    <tr>\n",
       "      <th>9</th>\n",
       "      <td>Warehouse</td>\n",
       "      <td>int</td>\n",
       "    </tr>\n",
       "  </tbody>\n",
       "</table>\n",
       "</div>"
      ],
      "text/plain": [
       "       Column Name Data type\n",
       "0          Address    string\n",
       "1             Area       int\n",
       "2             Year       int\n",
       "3   Number Of Room       int\n",
       "4            Price    bigint\n",
       "5  Price per meter       int\n",
       "6            Floor       int\n",
       "7         Elevator       int\n",
       "8          Parking       int\n",
       "9        Warehouse       int"
      ]
     },
     "execution_count": 100,
     "metadata": {},
     "output_type": "execute_result"
    }
   ],
   "source": [
    "print('Columns overview')\n",
    "pd.DataFrame(df.dtypes, columns = ['Column Name','Data type'])"
   ]
  },
  {
   "cell_type": "code",
   "execution_count": 12,
   "id": "65c80aa4-c409-43f1-8ef0-963d7062050a",
   "metadata": {},
   "outputs": [
    {
     "name": "stdout",
     "output_type": "stream",
     "text": [
      "+-------------+----+----+--------------+------------+---------------+-----+--------+-------+---------+\n",
      "|      Address|Area|Year|Number Of Room|       Price|Price per meter|Floor|Elevator|Parking|Warehouse|\n",
      "+-------------+----+----+--------------+------------+---------------+-----+--------+-------+---------+\n",
      "|     کوی بیمه| 105|1395|             2|  4100000000|       39048000|    4|       1|      1|        1|\n",
      "|      فرمانیه| 755|1398|             4|150000000000|      198675000|   10|       1|      1|        1|\n",
      "|         پونک|  68|1381|             2|  2460000000|       36176000|    1|       0|      1|        1|\n",
      "|     کوی بیمه|  88|1396|             2|  3200000000|       36364000|    5|       1|      1|        1|\n",
      "|        پردیس| 135|1398|             3|  2500000000|       18519000|    0|       1|      1|        1|\n",
      "|     کوی بیمه|  76|1400|             2|  3530000000|       46447000|    5|       1|      1|        1|\n",
      "|       بریانک|  53|1395|             1|  1100000000|       20755000|    3|       1|      1|        1|\n",
      "|سازمان برنامه|  87|1380|             2|  2275000000|       26149000|    4|       0|      1|        1|\n",
      "|           جی|  50|1378|             1|   740000000|       14800000|    1|       0|      0|        1|\n",
      "|         پونک|  78|1384|             2|  3000000000|       38462000|    3|       0|      1|        1|\n",
      "|سازمان برنامه| 110|1394|             2|  3960000000|       36000000|    1|       1|      1|        1|\n",
      "|        نارمک|  71|1390|             2|  2500000000|       35211000|    2|       1|      1|        1|\n",
      "|    شهرک گلها| 130|1400|             2|  1300000000|       10000000|    9|       1|      1|        1|\n",
      "|     آجودانیه| 100|1398|             2|  9900000000|       99000000|    1|       1|      1|        1|\n",
      "|       شادمهر|  95|1399|             2|  3600000000|       37895000|    2|       1|      1|        1|\n",
      "|     شهر زیبا| 126|1400|             2|  1450000000|       11508000|    1|       1|      1|        1|\n",
      "|      سهروردی|  90|1372|             2|  3300000000|       36667000|    0|       0|      1|        1|\n",
      "|   سعادت‌آباد| 250|1400|             3| 25000000000|      100000000|    5|       1|      1|        1|\n",
      "|        ولنجک| 160|1400|             3| 13500000000|       84375000|    1|       1|      1|        1|\n",
      "|   سعادت‌آباد| 195|1400|             3| 21000000000|      107692000|    3|       1|      1|        1|\n",
      "+-------------+----+----+--------------+------------+---------------+-----+--------+-------+---------+\n",
      "only showing top 20 rows\n",
      "\n"
     ]
    }
   ],
   "source": [
    "df.show()"
   ]
  },
  {
   "cell_type": "code",
   "execution_count": 13,
   "id": "4d9714a5-6a30-4945-97f2-be723d0c6f91",
   "metadata": {},
   "outputs": [
    {
     "name": "stdout",
     "output_type": "stream",
     "text": [
      "+-------+---------+-----------------+------------------+------------------+-------------------+--------------------+------------------+-------------------+-------------------+-------------------+\n",
      "|summary|  Address|             Area|              Year|    Number Of Room|              Price|     Price per meter|             Floor|           Elevator|            Parking|          Warehouse|\n",
      "+-------+---------+-----------------+------------------+------------------+-------------------+--------------------+------------------+-------------------+-------------------+-------------------+\n",
      "|  count|    11099|            11099|             11099|             11099|              11099|               11099|             11099|              11099|              11099|              11099|\n",
      "|   mean|     null|99.34606721326246|1391.0784755383368|1.9854941886656456|4.795949024777998E9|3.9099409045859985E7| 3.231372195693306| 0.7560140553202991| 0.8016037480854131| 0.8944049013424633|\n",
      "| stddev|     null|101.4214444933649| 7.463569524644848|0.7261970105071273|9.350470864662762E9| 3.311463067414841E7|2.7846643240255013|0.42950369521486437|0.39881011674284683|0.30733252979235315|\n",
      "|    min|    آبشار|                3|              1370|                 0|          100000000|             2000000|                -1|                  0|                  0|                  0|\n",
      "|    25%|     null|               65|              1385|                 2|         1230000000|            19167000|                 2|                  1|                  1|                  1|\n",
      "|    50%|     null|               87|              1392|                 2|         2700000000|            34000000|                 3|                  1|                  1|                  1|\n",
      "|    75%|     null|              117|              1398|                 2|         5544000000|            51493000|                 4|                  1|                  1|                  1|\n",
      "|    max|یوسف‌آباد|             8200|              1400|                 4|       400000000000|          1000000000|                30|                  1|                  1|                  1|\n",
      "+-------+---------+-----------------+------------------+------------------+-------------------+--------------------+------------------+-------------------+-------------------+-------------------+\n",
      "\n"
     ]
    }
   ],
   "source": [
    "df.summary().show()"
   ]
  },
  {
   "cell_type": "code",
   "execution_count": 29,
   "id": "53d3b7f5-8a30-4331-b09d-fd6cc1da2504",
   "metadata": {},
   "outputs": [
    {
     "data": {
      "text/html": [
       "<div>\n",
       "<style scoped>\n",
       "    .dataframe tbody tr th:only-of-type {\n",
       "        vertical-align: middle;\n",
       "    }\n",
       "\n",
       "    .dataframe tbody tr th {\n",
       "        vertical-align: top;\n",
       "    }\n",
       "\n",
       "    .dataframe thead th {\n",
       "        text-align: right;\n",
       "    }\n",
       "</style>\n",
       "<table border=\"1\" class=\"dataframe\">\n",
       "  <thead>\n",
       "    <tr style=\"text-align: right;\">\n",
       "      <th></th>\n",
       "      <th>summary</th>\n",
       "      <th>Address</th>\n",
       "      <th>Area</th>\n",
       "      <th>Year</th>\n",
       "      <th>Number Of Room</th>\n",
       "      <th>Price</th>\n",
       "      <th>Price per meter</th>\n",
       "      <th>Floor</th>\n",
       "      <th>Elevator</th>\n",
       "      <th>Parking</th>\n",
       "      <th>Warehouse</th>\n",
       "    </tr>\n",
       "  </thead>\n",
       "  <tbody>\n",
       "    <tr>\n",
       "      <th>0</th>\n",
       "      <td>count</td>\n",
       "      <td>11099</td>\n",
       "      <td>11099</td>\n",
       "      <td>11099</td>\n",
       "      <td>11099</td>\n",
       "      <td>11099</td>\n",
       "      <td>11099</td>\n",
       "      <td>11099</td>\n",
       "      <td>11099</td>\n",
       "      <td>11099</td>\n",
       "      <td>11099</td>\n",
       "    </tr>\n",
       "    <tr>\n",
       "      <th>1</th>\n",
       "      <td>mean</td>\n",
       "      <td>None</td>\n",
       "      <td>99.34606721326246</td>\n",
       "      <td>1391.0784755383368</td>\n",
       "      <td>1.9854941886656456</td>\n",
       "      <td>4.795949024777998E9</td>\n",
       "      <td>3.9099409045859985E7</td>\n",
       "      <td>3.231372195693306</td>\n",
       "      <td>0.7560140553202991</td>\n",
       "      <td>0.8016037480854131</td>\n",
       "      <td>0.8944049013424633</td>\n",
       "    </tr>\n",
       "    <tr>\n",
       "      <th>2</th>\n",
       "      <td>stddev</td>\n",
       "      <td>None</td>\n",
       "      <td>101.4214444933649</td>\n",
       "      <td>7.463569524644848</td>\n",
       "      <td>0.7261970105071273</td>\n",
       "      <td>9.350470864662762E9</td>\n",
       "      <td>3.311463067414841E7</td>\n",
       "      <td>2.7846643240255013</td>\n",
       "      <td>0.42950369521486437</td>\n",
       "      <td>0.39881011674284683</td>\n",
       "      <td>0.30733252979235315</td>\n",
       "    </tr>\n",
       "    <tr>\n",
       "      <th>3</th>\n",
       "      <td>min</td>\n",
       "      <td>آبشار</td>\n",
       "      <td>3</td>\n",
       "      <td>1370</td>\n",
       "      <td>0</td>\n",
       "      <td>100000000</td>\n",
       "      <td>2000000</td>\n",
       "      <td>-1</td>\n",
       "      <td>0</td>\n",
       "      <td>0</td>\n",
       "      <td>0</td>\n",
       "    </tr>\n",
       "    <tr>\n",
       "      <th>4</th>\n",
       "      <td>max</td>\n",
       "      <td>یوسف‌آباد</td>\n",
       "      <td>8200</td>\n",
       "      <td>1400</td>\n",
       "      <td>4</td>\n",
       "      <td>400000000000</td>\n",
       "      <td>1000000000</td>\n",
       "      <td>30</td>\n",
       "      <td>1</td>\n",
       "      <td>1</td>\n",
       "      <td>1</td>\n",
       "    </tr>\n",
       "  </tbody>\n",
       "</table>\n",
       "</div>"
      ],
      "text/plain": [
       "  summary    Address               Area                Year  \\\n",
       "0   count      11099              11099               11099   \n",
       "1    mean       None  99.34606721326246  1391.0784755383368   \n",
       "2  stddev       None  101.4214444933649   7.463569524644848   \n",
       "3     min      آبشار                  3                1370   \n",
       "4     max  یوسف‌آباد               8200                1400   \n",
       "\n",
       "       Number Of Room                Price       Price per meter  \\\n",
       "0               11099                11099                 11099   \n",
       "1  1.9854941886656456  4.795949024777998E9  3.9099409045859985E7   \n",
       "2  0.7261970105071273  9.350470864662762E9   3.311463067414841E7   \n",
       "3                   0            100000000               2000000   \n",
       "4                   4         400000000000            1000000000   \n",
       "\n",
       "                Floor             Elevator              Parking  \\\n",
       "0               11099                11099                11099   \n",
       "1   3.231372195693306   0.7560140553202991   0.8016037480854131   \n",
       "2  2.7846643240255013  0.42950369521486437  0.39881011674284683   \n",
       "3                  -1                    0                    0   \n",
       "4                  30                    1                    1   \n",
       "\n",
       "             Warehouse  \n",
       "0                11099  \n",
       "1   0.8944049013424633  \n",
       "2  0.30733252979235315  \n",
       "3                    0  \n",
       "4                    1  "
      ]
     },
     "execution_count": 29,
     "metadata": {},
     "output_type": "execute_result"
    }
   ],
   "source": [
    "df.describe().toPandas()"
   ]
  },
  {
   "cell_type": "code",
   "execution_count": 51,
   "id": "9a1297ee-b672-4ee9-ad16-ef9e7069207d",
   "metadata": {},
   "outputs": [
    {
     "data": {
      "text/html": [
       "<div>\n",
       "<style scoped>\n",
       "    .dataframe tbody tr th:only-of-type {\n",
       "        vertical-align: middle;\n",
       "    }\n",
       "\n",
       "    .dataframe tbody tr th {\n",
       "        vertical-align: top;\n",
       "    }\n",
       "\n",
       "    .dataframe thead th {\n",
       "        text-align: right;\n",
       "    }\n",
       "</style>\n",
       "<table border=\"1\" class=\"dataframe\">\n",
       "  <thead>\n",
       "    <tr style=\"text-align: right;\">\n",
       "      <th></th>\n",
       "      <th>0</th>\n",
       "      <th>1</th>\n",
       "      <th>2</th>\n",
       "      <th>3</th>\n",
       "      <th>4</th>\n",
       "      <th>5</th>\n",
       "      <th>6</th>\n",
       "      <th>7</th>\n",
       "      <th>8</th>\n",
       "      <th>9</th>\n",
       "    </tr>\n",
       "  </thead>\n",
       "  <tbody>\n",
       "    <tr>\n",
       "      <th>Address</th>\n",
       "      <td>کوی بیمه</td>\n",
       "      <td>فرمانیه</td>\n",
       "      <td>پونک</td>\n",
       "      <td>کوی بیمه</td>\n",
       "      <td>پردیس</td>\n",
       "      <td>کوی بیمه</td>\n",
       "      <td>بریانک</td>\n",
       "      <td>سازمان برنامه</td>\n",
       "      <td>جی</td>\n",
       "      <td>پونک</td>\n",
       "    </tr>\n",
       "    <tr>\n",
       "      <th>Area</th>\n",
       "      <td>105</td>\n",
       "      <td>755</td>\n",
       "      <td>68</td>\n",
       "      <td>88</td>\n",
       "      <td>135</td>\n",
       "      <td>76</td>\n",
       "      <td>53</td>\n",
       "      <td>87</td>\n",
       "      <td>50</td>\n",
       "      <td>78</td>\n",
       "    </tr>\n",
       "    <tr>\n",
       "      <th>Year</th>\n",
       "      <td>1395</td>\n",
       "      <td>1398</td>\n",
       "      <td>1381</td>\n",
       "      <td>1396</td>\n",
       "      <td>1398</td>\n",
       "      <td>1400</td>\n",
       "      <td>1395</td>\n",
       "      <td>1380</td>\n",
       "      <td>1378</td>\n",
       "      <td>1384</td>\n",
       "    </tr>\n",
       "    <tr>\n",
       "      <th>Number Of Room</th>\n",
       "      <td>2</td>\n",
       "      <td>4</td>\n",
       "      <td>2</td>\n",
       "      <td>2</td>\n",
       "      <td>3</td>\n",
       "      <td>2</td>\n",
       "      <td>1</td>\n",
       "      <td>2</td>\n",
       "      <td>1</td>\n",
       "      <td>2</td>\n",
       "    </tr>\n",
       "    <tr>\n",
       "      <th>Price</th>\n",
       "      <td>4100000000</td>\n",
       "      <td>150000000000</td>\n",
       "      <td>2460000000</td>\n",
       "      <td>3200000000</td>\n",
       "      <td>2500000000</td>\n",
       "      <td>3530000000</td>\n",
       "      <td>1100000000</td>\n",
       "      <td>2275000000</td>\n",
       "      <td>740000000</td>\n",
       "      <td>3000000000</td>\n",
       "    </tr>\n",
       "    <tr>\n",
       "      <th>Price per meter</th>\n",
       "      <td>39048000</td>\n",
       "      <td>198675000</td>\n",
       "      <td>36176000</td>\n",
       "      <td>36364000</td>\n",
       "      <td>18519000</td>\n",
       "      <td>46447000</td>\n",
       "      <td>20755000</td>\n",
       "      <td>26149000</td>\n",
       "      <td>14800000</td>\n",
       "      <td>38462000</td>\n",
       "    </tr>\n",
       "    <tr>\n",
       "      <th>Floor</th>\n",
       "      <td>4</td>\n",
       "      <td>10</td>\n",
       "      <td>1</td>\n",
       "      <td>5</td>\n",
       "      <td>0</td>\n",
       "      <td>5</td>\n",
       "      <td>3</td>\n",
       "      <td>4</td>\n",
       "      <td>1</td>\n",
       "      <td>3</td>\n",
       "    </tr>\n",
       "    <tr>\n",
       "      <th>Elevator</th>\n",
       "      <td>1</td>\n",
       "      <td>1</td>\n",
       "      <td>0</td>\n",
       "      <td>1</td>\n",
       "      <td>1</td>\n",
       "      <td>1</td>\n",
       "      <td>1</td>\n",
       "      <td>0</td>\n",
       "      <td>0</td>\n",
       "      <td>0</td>\n",
       "    </tr>\n",
       "    <tr>\n",
       "      <th>Parking</th>\n",
       "      <td>1</td>\n",
       "      <td>1</td>\n",
       "      <td>1</td>\n",
       "      <td>1</td>\n",
       "      <td>1</td>\n",
       "      <td>1</td>\n",
       "      <td>1</td>\n",
       "      <td>1</td>\n",
       "      <td>0</td>\n",
       "      <td>1</td>\n",
       "    </tr>\n",
       "    <tr>\n",
       "      <th>Warehouse</th>\n",
       "      <td>1</td>\n",
       "      <td>1</td>\n",
       "      <td>1</td>\n",
       "      <td>1</td>\n",
       "      <td>1</td>\n",
       "      <td>1</td>\n",
       "      <td>1</td>\n",
       "      <td>1</td>\n",
       "      <td>1</td>\n",
       "      <td>1</td>\n",
       "    </tr>\n",
       "  </tbody>\n",
       "</table>\n",
       "</div>"
      ],
      "text/plain": [
       "                          0             1           2           3           4  \\\n",
       "Address            کوی بیمه       فرمانیه        پونک    کوی بیمه       پردیس   \n",
       "Area                    105           755          68          88         135   \n",
       "Year                   1395          1398        1381        1396        1398   \n",
       "Number Of Room            2             4           2           2           3   \n",
       "Price            4100000000  150000000000  2460000000  3200000000  2500000000   \n",
       "Price per meter    39048000     198675000    36176000    36364000    18519000   \n",
       "Floor                     4            10           1           5           0   \n",
       "Elevator                  1             1           0           1           1   \n",
       "Parking                   1             1           1           1           1   \n",
       "Warehouse                 1             1           1           1           1   \n",
       "\n",
       "                          5           6              7          8           9  \n",
       "Address            کوی بیمه      بریانک  سازمان برنامه         جی        پونک  \n",
       "Area                     76          53             87         50          78  \n",
       "Year                   1400        1395           1380       1378        1384  \n",
       "Number Of Room            2           1              2          1           2  \n",
       "Price            3530000000  1100000000     2275000000  740000000  3000000000  \n",
       "Price per meter    46447000    20755000       26149000   14800000    38462000  \n",
       "Floor                     5           3              4          1           3  \n",
       "Elevator                  1           1              0          0           0  \n",
       "Parking                   1           1              1          0           1  \n",
       "Warehouse                 1           1              1          1           1  "
      ]
     },
     "execution_count": 51,
     "metadata": {},
     "output_type": "execute_result"
    }
   ],
   "source": [
    "pd.DataFrame(df.take(10), columns=df.columns).transpose()"
   ]
  },
  {
   "cell_type": "code",
   "execution_count": 15,
   "id": "847c3204-0891-4d43-837d-ba703b296da3",
   "metadata": {},
   "outputs": [
    {
     "data": {
      "text/plain": [
       "11099"
      ]
     },
     "execution_count": 15,
     "metadata": {},
     "output_type": "execute_result"
    }
   ],
   "source": [
    "df.count()"
   ]
  },
  {
   "cell_type": "code",
   "execution_count": 24,
   "id": "c1adf71d-1cf6-4743-9983-6db2aa251bb2",
   "metadata": {},
   "outputs": [
    {
     "name": "stdout",
     "output_type": "stream",
     "text": [
      "Address with null values:  0\n",
      "Area with null values:  0\n",
      "Year with null values:  0\n",
      "Number Of Room with null values:  0\n",
      "Price with null values:  0\n",
      "Price per meter with null values:  0\n",
      "Floor with null values:  0\n",
      "Elevator with null values:  0\n",
      "Parking with null values:  0\n",
      "Warehouse with null values:  0\n"
     ]
    }
   ],
   "source": [
    "for col in df.columns:\n",
    "    print(col, \"with null values: \", df.filter(df[col].isNull()).count())"
   ]
  },
  {
   "cell_type": "markdown",
   "id": "26fc98b2-158c-4b4c-8f4e-fe75b2684ca7",
   "metadata": {},
   "source": [
    "<h3>Find number of unique Elements in Data.</h3>"
   ]
  },
  {
   "cell_type": "code",
   "execution_count": 39,
   "id": "46dba908-261d-4953-a7eb-0224c439d4e0",
   "metadata": {},
   "outputs": [
    {
     "name": "stdout",
     "output_type": "stream",
     "text": [
      "Address with unique values:  331\n",
      "Area with unique values:  293\n",
      "Year with unique values:  31\n",
      "Number Of Room with unique values:  5\n",
      "Price with unique values:  1734\n",
      "Price per meter with unique values:  5406\n",
      "Floor with unique values:  29\n",
      "Elevator with unique values:  2\n",
      "Parking with unique values:  2\n",
      "Warehouse with unique values:  2\n"
     ]
    }
   ],
   "source": [
    "for col in df.columns:\n",
    "    print(col, \"with unique values: \", df.select(col).distinct().count())\n"
   ]
  },
  {
   "cell_type": "markdown",
   "id": "198c2255-775b-4282-aa2b-00c33109fa74",
   "metadata": {},
   "source": [
    "<h3>House with less than 5 years of construction.</h3>"
   ]
  },
  {
   "cell_type": "code",
   "execution_count": 43,
   "id": "748a8cc7-5375-448a-9795-c7488f337230",
   "metadata": {},
   "outputs": [
    {
     "name": "stdout",
     "output_type": "stream",
     "text": [
      "Number of houses with less than 5 years of construction: 3421\n"
     ]
    }
   ],
   "source": [
    "print(\"Number of houses with less than 5 years of construction:\",df.filter(df['Year'] > 1396).count())"
   ]
  },
  {
   "cell_type": "markdown",
   "id": "ebbf58e5-fdaf-403c-bacd-fc04ec167fa4",
   "metadata": {},
   "source": [
    "<h3>groupby Price per meter </h3>"
   ]
  },
  {
   "cell_type": "code",
   "execution_count": 46,
   "id": "39e93106-7c13-44ec-87e6-bd32d11e3033",
   "metadata": {},
   "outputs": [
    {
     "name": "stdout",
     "output_type": "stream",
     "text": [
      "+---------------+-----+\n",
      "|Price per meter|count|\n",
      "+---------------+-----+\n",
      "|       38846000|    1|\n",
      "|       22692000|    1|\n",
      "|       69048000|    1|\n",
      "|      144231000|    1|\n",
      "|       20154000|    2|\n",
      "|        7907000|    2|\n",
      "|       27200000|    1|\n",
      "|       52970000|    1|\n",
      "|       10460000|    2|\n",
      "|       52023000|    1|\n",
      "+---------------+-----+\n",
      "only showing top 10 rows\n",
      "\n"
     ]
    }
   ],
   "source": [
    "gp = df.groupBy(\"Price per meter\").count()\n",
    "gp.show(10)"
   ]
  },
  {
   "cell_type": "code",
   "execution_count": 62,
   "id": "5730ffa1-930a-42c7-9d51-4fe3f57ec5c3",
   "metadata": {},
   "outputs": [
    {
     "data": {
      "image/png": "[encoded data removed]",
      "text/plain": [
       "<Figure size 1440x1440 with 64 Axes>"
      ]
     },
     "metadata": {
      "needs_background": "light"
     },
     "output_type": "display_data"
    }
   ],
   "source": [
    "numeric_features = [t[0] for t in df.dtypes if t[1] == 'int']\n",
    "numeric_data = df.select(numeric_features).toPandas()\n",
    "axs = scatter_matrix(numeric_data, figsize=(20, 20));\n",
    "n = len(numeric_data.columns)\n",
    "for i in range(n):\n",
    "    v = axs[i, 0]\n",
    "    v.yaxis.label.set_rotation(0)\n",
    "    v.yaxis.label.set_ha('right')\n",
    "    v.set_yticks(())\n",
    "    h = axs[n-1, i]\n",
    "    h.xaxis.label.set_rotation(90)\n",
    "    h.set_xticks(())"
   ]
  },
  {
   "cell_type": "markdown",
   "id": "72eee818-6165-4881-ae21-84a838a6060f",
   "metadata": {},
   "source": [
    "<h3>Correlation between variables and Price</h3>"
   ]
  },
  {
   "cell_type": "code",
   "execution_count": 104,
   "id": "67f61d30-8476-454d-847c-d5ce09838366",
   "metadata": {},
   "outputs": [
    {
     "name": "stdout",
     "output_type": "stream",
     "text": [
      "Correlation to Price for  Area 0.7555067853354276\n",
      "Correlation to Price for  Year 0.09793148348221639\n",
      "Correlation to Price for  Number Of Room 0.441740838180093\n",
      "Correlation to Price for  Price 1.0\n",
      "Correlation to Price for  Price per meter 0.6685283685925187\n",
      "Correlation to Price for  Floor 0.11635796095307302\n",
      "Correlation to Price for  Elevator 0.18243529886190868\n",
      "Correlation to Price for  Parking 0.18197819547911698\n",
      "Correlation to Price for  Warehouse 0.11533357589949349\n"
     ]
    }
   ],
   "source": [
    "import six\n",
    "for i in df.columns:\n",
    "    if not( isinstance(df.select(i).take(1)[0][0], six.string_types)):\n",
    "        print( \"Correlation to Price for \", i, df.stat.corr('Price',i))"
   ]
  },
  {
   "cell_type": "markdown",
   "id": "ac0ee5e4-fb71-402b-94a3-abe97cb6ce3e",
   "metadata": {},
   "source": [
    "<h3>Linear Regression model</h3>"
   ]
  },
  {
   "cell_type": "code",
   "execution_count": 105,
   "id": "7817e733-d469-455b-9c52-2d46f55aa65a",
   "metadata": {},
   "outputs": [],
   "source": [
    "from pyspark.ml.feature import VectorAssembler\n"
   ]
  },
  {
   "cell_type": "code",
   "execution_count": 108,
   "id": "76709658-9e38-46cd-976e-a4cf1a18f7a2",
   "metadata": {},
   "outputs": [
    {
     "name": "stdout",
     "output_type": "stream",
     "text": [
      "+--------------------+------------+\n",
      "|            features|       Price|\n",
      "+--------------------+------------+\n",
      "|[105.0,1395.0,2.0...|  4100000000|\n",
      "|[755.0,1398.0,4.0...|150000000000|\n",
      "|[68.0,1381.0,2.0,...|  2460000000|\n",
      "+--------------------+------------+\n",
      "only showing top 3 rows\n",
      "\n"
     ]
    }
   ],
   "source": [
    "vectorAssembler = VectorAssembler(inputCols = [\"Area\", \"Year\", \"Number Of Room\", \"Price per meter\", \"Floor\", \"Elevator\"\\\n",
    "                                              , \"Parking\", \"Warehouse\"], outputCol = 'features')\n",
    "vector_df = vectorAssembler.transform(df)\n",
    "vector_df = vector_df.select(['features', 'Price'])\n",
    "vector_df.show(3)"
   ]
  },
  {
   "cell_type": "code",
   "execution_count": 110,
   "id": "75951005-d909-4d04-bb93-d0071bfdf822",
   "metadata": {},
   "outputs": [],
   "source": [
    "splits = vector_df.randomSplit([0.7, 0.3])\n",
    "train_df = splits[0]\n",
    "test_df = splits[1]"
   ]
  },
  {
   "cell_type": "code",
   "execution_count": 111,
   "id": "94efa5ff-6ff5-4c64-bced-9d5420a1b550",
   "metadata": {},
   "outputs": [
    {
     "name": "stdout",
     "output_type": "stream",
     "text": [
      "Coefficients: [55519981.60395409,56156408.51921113,97311559.50558382,151.4669546009377,78477278.79922207,-1393224908.369517,-1395484584.2642112,-476843016.4153281]\n",
      "Intercept: -82610418566.21548\n"
     ]
    }
   ],
   "source": [
    "from pyspark.ml.regression import LinearRegression\n",
    "lr = LinearRegression(featuresCol = 'features', labelCol='Price', maxIter=10, regParam=0.3, elasticNetParam=0.8)\n",
    "lr_model = lr.fit(train_df)\n",
    "print(\"Coefficients: \" + str(lr_model.coefficients))\n",
    "print(\"Intercept: \" + str(lr_model.intercept))"
   ]
  },
  {
   "cell_type": "code",
   "execution_count": 112,
   "id": "5f0941b6-38fc-4ab7-adb3-2099f0eef40f",
   "metadata": {},
   "outputs": [
    {
     "name": "stdout",
     "output_type": "stream",
     "text": [
      "RMSE: 4310733047.093077\n",
      "r2: 0.807876\n"
     ]
    }
   ],
   "source": [
    "trainingSummary = lr_model.summary\n",
    "print(\"RMSE: %f\" % trainingSummary.rootMeanSquaredError)\n",
    "print(\"r2: %f\" % trainingSummary.r2)"
   ]
  },
  {
   "cell_type": "code",
   "execution_count": 113,
   "id": "bd911b81-00ee-4776-a24e-120bebaecc94",
   "metadata": {},
   "outputs": [
    {
     "name": "stdout",
     "output_type": "stream",
     "text": [
      "+-------+-------------------+\n",
      "|summary|              Price|\n",
      "+-------+-------------------+\n",
      "|  count|               7729|\n",
      "|   mean|4.789614733601372E9|\n",
      "| stddev|9.835329280659582E9|\n",
      "|    min|          180000000|\n",
      "|    max|       400000000000|\n",
      "+-------+-------------------+\n",
      "\n"
     ]
    }
   ],
   "source": [
    "train_df.describe().show()"
   ]
  },
  {
   "cell_type": "code",
   "execution_count": 114,
   "id": "a73f736f-7f07-42e6-b8c9-11a313ee1d91",
   "metadata": {},
   "outputs": [
    {
     "name": "stdout",
     "output_type": "stream",
     "text": [
      "+--------------------+----------+--------------------+\n",
      "|          prediction|     Price|            features|\n",
      "+--------------------+----------+--------------------+\n",
      "|-8.449963331140137E7| 700000000|(8,[0,1,2,3],[33....|\n",
      "| 4.482881163948059E7| 780000000|(8,[0,1,2,3],[40....|\n",
      "|-4.35730731130676...| 700000000|(8,[0,1,2,3],[41....|\n",
      "|1.7560257537230377E9|1220000000|(8,[0,1,2,3],[45....|\n",
      "|  9.78696014181366E8|1100000000|(8,[0,1,2,3],[50....|\n",
      "+--------------------+----------+--------------------+\n",
      "only showing top 5 rows\n",
      "\n",
      "R Squared (R2) on test data = 0.818893\n"
     ]
    }
   ],
   "source": [
    "lr_predictions = lr_model.transform(test_df)\n",
    "lr_predictions.select(\"prediction\",\"Price\",\"features\").show(5)\n",
    "from pyspark.ml.evaluation import RegressionEvaluator\n",
    "lr_evaluator = RegressionEvaluator(predictionCol=\"prediction\", \\\n",
    "                 labelCol=\"Price\",metricName=\"r2\")\n",
    "print(\"R Squared (R2) on test data = %g\" % lr_evaluator.evaluate(lr_predictions))"
   ]
  },
  {
   "cell_type": "code",
   "execution_count": 115,
   "id": "231d55f6-320e-4631-8d49-26567987034d",
   "metadata": {},
   "outputs": [
    {
     "name": "stdout",
     "output_type": "stream",
     "text": [
      "Root Mean Squared Error (RMSE) on test data = 3.45991e+09\n"
     ]
    }
   ],
   "source": [
    "test_result = lr_model.evaluate(test_df)\n",
    "print(\"Root Mean Squared Error (RMSE) on test data = %g\" % test_result.rootMeanSquaredError)"
   ]
  },
  {
   "cell_type": "code",
   "execution_count": 116,
   "id": "ab205705-2a05-4d06-82f4-c1453b3d6b87",
   "metadata": {},
   "outputs": [
    {
     "name": "stdout",
     "output_type": "stream",
     "text": [
      "+--------------------+----------+--------------------+\n",
      "|          prediction|     Price|            features|\n",
      "+--------------------+----------+--------------------+\n",
      "|-8.449963331140137E7| 700000000|(8,[0,1,2,3],[33....|\n",
      "| 4.482881163948059E7| 780000000|(8,[0,1,2,3],[40....|\n",
      "|-4.35730731130676...| 700000000|(8,[0,1,2,3],[41....|\n",
      "|1.7560257537230377E9|1220000000|(8,[0,1,2,3],[45....|\n",
      "|  9.78696014181366E8|1100000000|(8,[0,1,2,3],[50....|\n",
      "|1.0518546936572723E9|1050000000|(8,[0,1,2,3],[50....|\n",
      "| 6.521667330247726E9|2800000000|(8,[0,1,2,3],[50....|\n",
      "|4.2159902132902527E8| 390000000|(8,[0,1,2,3],[60....|\n",
      "| 9.843317517890625E8| 450000000|(8,[0,1,2,3],[86....|\n",
      "|3.1286764227933655E9|1500000000|(8,[0,1,2,3],[100...|\n",
      "|3.8398430052119446E9|2050000000|(8,[0,1,2,3],[104...|\n",
      "| 4.296181613412689E9|1850000000|(8,[0,1,2,3],[110...|\n",
      "| 3.778378080218048E8| 580000000|(8,[0,1,3],[30.0,...|\n",
      "|2.4187725779639587E9|1100000000|(8,[0,1,3,4],[30....|\n",
      "|-3.69283560735168...| 635000000|(8,[0,1,3,4],[31....|\n",
      "| 2.581757937184952E9| 500000000|(8,[0,1,3,4],[105...|\n",
      "|1.7794874009526825E9|1130000000|(8,[0,1,3,7],[30....|\n",
      "|5.213258461841464E10|2356000000|[6.0,1388.0,1.0,3...|\n",
      "| -4.61958158472583E9| 162500000|[13.0,1399.0,0.0,...|\n",
      "| 5.324261790485382E8| 720000000|[15.0,1371.0,0.0,...|\n",
      "+--------------------+----------+--------------------+\n",
      "only showing top 20 rows\n",
      "\n"
     ]
    }
   ],
   "source": [
    "predictions = lr_model.transform(test_df)\n",
    "predictions.select(\"prediction\",\"Price\",\"features\").show()"
   ]
  }
 ],
 "metadata": {
  "kernelspec": {
   "display_name": "Python 3 (ipykernel)",
   "language": "python",
   "name": "python3"
  },
  "language_info": {
   "codemirror_mode": {
    "name": "ipython",
    "version": 3
   },
   "file_extension": ".py",
   "mimetype": "text/x-python",
   "name": "python",
   "nbconvert_exporter": "python",
   "pygments_lexer": "ipython3",
   "version": "3.9.10"
  }
 },
 "nbformat": 4,
 "nbformat_minor": 5
}
